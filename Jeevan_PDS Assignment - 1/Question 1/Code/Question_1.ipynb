{
  "nbformat": 4,
  "nbformat_minor": 0,
  "metadata": {
    "colab": {
      "provenance": []
    },
    "kernelspec": {
      "name": "python3",
      "display_name": "Python 3"
    },
    "language_info": {
      "name": "python"
    }
  },
  "cells": [
    {
      "cell_type": "code",
      "execution_count": 15,
      "metadata": {
        "id": "W20Syr0jAoIX"
      },
      "outputs": [],
      "source": [
        "import matplotlib.pyplot as plt\n",
        "import seaborn as sns\n",
        "import pandas as pd\n"
      ]
    },
    {
      "cell_type": "code",
      "source": [
        "data_raw = pd.read_csv(\"Frailty_data.csv\")\n"
      ],
      "metadata": {
        "id": "2CQMWNVtAzwW"
      },
      "execution_count": 3,
      "outputs": []
    },
    {
      "cell_type": "code",
      "source": [
        "print(data_raw)"
      ],
      "metadata": {
        "colab": {
          "base_uri": "https://localhost:8080/"
        },
        "id": "BzHTGH6XA2EG",
        "outputId": "c497df0a-ed3a-46bf-adae-0812e4319d48"
      },
      "execution_count": 4,
      "outputs": [
        {
          "output_type": "stream",
          "name": "stdout",
          "text": [
            "   Height   Weight   Age  Grip strength Frailty\n",
            "0     65.8      112   30             30       N\n",
            "1     71.5      136   19             31       N\n",
            "2     69.4      153   45             29       N\n",
            "3     68.2      142   22             28       Y\n",
            "4     67.8      144   29             24       Y\n",
            "5     68.7      123   50             26       N\n",
            "6     69.8      141   51             22       Y\n",
            "7     70.1      136   23             20       Y\n",
            "8     67.9      112   17             19       N\n",
            "9     66.8      120   39             31       N\n"
          ]
        }
      ]
    },
    {
      "cell_type": "code",
      "source": [
        "data_cleaned = data_raw.dropna()\n"
      ],
      "metadata": {
        "id": "0GHzWx6gA4py"
      },
      "execution_count": 5,
      "outputs": []
    },
    {
      "cell_type": "code",
      "source": [
        "print(data_cleaned)\n"
      ],
      "metadata": {
        "colab": {
          "base_uri": "https://localhost:8080/"
        },
        "id": "FKi3G5wxBGzK",
        "outputId": "29ea7dbb-a08e-41e7-c910-6d9f3806c11a"
      },
      "execution_count": 6,
      "outputs": [
        {
          "output_type": "stream",
          "name": "stdout",
          "text": [
            "   Height   Weight   Age  Grip strength Frailty\n",
            "0     65.8      112   30             30       N\n",
            "1     71.5      136   19             31       N\n",
            "2     69.4      153   45             29       N\n",
            "3     68.2      142   22             28       Y\n",
            "4     67.8      144   29             24       Y\n",
            "5     68.7      123   50             26       N\n",
            "6     69.8      141   51             22       Y\n",
            "7     70.1      136   23             20       Y\n",
            "8     67.9      112   17             19       N\n",
            "9     66.8      120   39             31       N\n"
          ]
        }
      ]
    },
    {
      "cell_type": "code",
      "source": [
        "data_cleaned = data_cleaned.drop_duplicates()\n"
      ],
      "metadata": {
        "id": "5a9Wd5k_BJqP"
      },
      "execution_count": 7,
      "outputs": []
    },
    {
      "cell_type": "code",
      "source": [
        "print(data_cleaned)\n"
      ],
      "metadata": {
        "colab": {
          "base_uri": "https://localhost:8080/"
        },
        "id": "jPjgKrGIBLBM",
        "outputId": "ecb98afd-d73b-40cf-889e-ab270ae3de4a"
      },
      "execution_count": 8,
      "outputs": [
        {
          "output_type": "stream",
          "name": "stdout",
          "text": [
            "   Height   Weight   Age  Grip strength Frailty\n",
            "0     65.8      112   30             30       N\n",
            "1     71.5      136   19             31       N\n",
            "2     69.4      153   45             29       N\n",
            "3     68.2      142   22             28       Y\n",
            "4     67.8      144   29             24       Y\n",
            "5     68.7      123   50             26       N\n",
            "6     69.8      141   51             22       Y\n",
            "7     70.1      136   23             20       Y\n",
            "8     67.9      112   17             19       N\n",
            "9     66.8      120   39             31       N\n"
          ]
        }
      ]
    },
    {
      "cell_type": "code",
      "source": [
        "values_missing = data_cleaned.isnull().sum()\n"
      ],
      "metadata": {
        "id": "ZTbhen0-BMWw"
      },
      "execution_count": 9,
      "outputs": []
    },
    {
      "cell_type": "code",
      "source": [
        "print(values_missing)\n"
      ],
      "metadata": {
        "colab": {
          "base_uri": "https://localhost:8080/"
        },
        "id": "F7cYPAn7BNqY",
        "outputId": "9f5cbac5-e2a1-41b2-b472-b52d560ea456"
      },
      "execution_count": 10,
      "outputs": [
        {
          "output_type": "stream",
          "name": "stdout",
          "text": [
            "Height           0\n",
            "Weight           0\n",
            "Age              0\n",
            "Grip strength    0\n",
            "Frailty          0\n",
            "dtype: int64\n"
          ]
        }
      ]
    },
    {
      "cell_type": "code",
      "source": [
        "plt.figure(figsize=(8, 6))\n",
        "data_cleaned['Frailty'].value_counts().plot.pie(autopct='%1.1f%%')\n",
        "plt.title('Frailty Status Distribution')\n",
        "plt.ylabel('')\n",
        "plt.show()\n"
      ],
      "metadata": {
        "colab": {
          "base_uri": "https://localhost:8080/",
          "height": 521
        },
        "id": "tnphY7bMBQVB",
        "outputId": "0184c8a2-1e0a-4adf-e883-da6b8f45cbb1"
      },
      "execution_count": 20,
      "outputs": [
        {
          "output_type": "display_data",
          "data": {
            "text/plain": [
              "<Figure size 800x600 with 1 Axes>"
            ],
            "image/png": "[encoded data removed]"
          },
          "metadata": {}
        }
      ]
    }
  ]
}